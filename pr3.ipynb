{
 "cells": [
  {
   "cell_type": "code",
   "execution_count": 27,
   "id": "6ba9433b-b62b-439b-ae73-9f2d9e548761",
   "metadata": {},
   "outputs": [
    {
     "data": {
      "text/html": [
       "<div>\n",
       "<style scoped>\n",
       "    .dataframe tbody tr th:only-of-type {\n",
       "        vertical-align: middle;\n",
       "    }\n",
       "\n",
       "    .dataframe tbody tr th {\n",
       "        vertical-align: top;\n",
       "    }\n",
       "\n",
       "    .dataframe thead th {\n",
       "        text-align: right;\n",
       "    }\n",
       "</style>\n",
       "<table border=\"1\" class=\"dataframe\">\n",
       "  <thead>\n",
       "    <tr style=\"text-align: right;\">\n",
       "      <th></th>\n",
       "      <th>PARAMETERS</th>\n",
       "      <th>SO2</th>\n",
       "      <th>CO</th>\n",
       "      <th>NO</th>\n",
       "      <th>NO2</th>\n",
       "      <th>NOX</th>\n",
       "      <th>NH3</th>\n",
       "      <th>O3</th>\n",
       "      <th>AQI</th>\n",
       "      <th>WS</th>\n",
       "      <th>WD</th>\n",
       "      <th>RH</th>\n",
       "      <th>SR</th>\n",
       "      <th>TC</th>\n",
       "    </tr>\n",
       "  </thead>\n",
       "  <tbody>\n",
       "    <tr>\n",
       "      <th>0</th>\n",
       "      <td>01/01/2023</td>\n",
       "      <td>2.02</td>\n",
       "      <td>0.06</td>\n",
       "      <td>8.93</td>\n",
       "      <td>17.84</td>\n",
       "      <td>26.00</td>\n",
       "      <td>8.93</td>\n",
       "      <td>26.07</td>\n",
       "      <td>72</td>\n",
       "      <td>0.33</td>\n",
       "      <td>37.96</td>\n",
       "      <td>80.27</td>\n",
       "      <td>199.80</td>\n",
       "      <td>28.70</td>\n",
       "    </tr>\n",
       "    <tr>\n",
       "      <th>1</th>\n",
       "      <td>02/01/2023</td>\n",
       "      <td>1.63</td>\n",
       "      <td>0.12</td>\n",
       "      <td>8.89</td>\n",
       "      <td>17.74</td>\n",
       "      <td>26.00</td>\n",
       "      <td>8.89</td>\n",
       "      <td>25.97</td>\n",
       "      <td>81</td>\n",
       "      <td>0.47</td>\n",
       "      <td>33.84</td>\n",
       "      <td>82.50</td>\n",
       "      <td>189.10</td>\n",
       "      <td>28.11</td>\n",
       "    </tr>\n",
       "    <tr>\n",
       "      <th>2</th>\n",
       "      <td>03/01/2023</td>\n",
       "      <td>3.46</td>\n",
       "      <td>0.03</td>\n",
       "      <td>8.91</td>\n",
       "      <td>17.89</td>\n",
       "      <td>26.00</td>\n",
       "      <td>8.91</td>\n",
       "      <td>26.03</td>\n",
       "      <td>82</td>\n",
       "      <td>0.19</td>\n",
       "      <td>54.37</td>\n",
       "      <td>71.00</td>\n",
       "      <td>203.10</td>\n",
       "      <td>28.55</td>\n",
       "    </tr>\n",
       "    <tr>\n",
       "      <th>3</th>\n",
       "      <td>04/01/2023</td>\n",
       "      <td>2.79</td>\n",
       "      <td>0.11</td>\n",
       "      <td>8.88</td>\n",
       "      <td>17.77</td>\n",
       "      <td>26.00</td>\n",
       "      <td>8.88</td>\n",
       "      <td>25.95</td>\n",
       "      <td>79</td>\n",
       "      <td>0.54</td>\n",
       "      <td>40.44</td>\n",
       "      <td>78.11</td>\n",
       "      <td>205.20</td>\n",
       "      <td>28.25</td>\n",
       "    </tr>\n",
       "    <tr>\n",
       "      <th>4</th>\n",
       "      <td>05/01/2023</td>\n",
       "      <td>1.15</td>\n",
       "      <td>0.22</td>\n",
       "      <td>9.48</td>\n",
       "      <td>17.73</td>\n",
       "      <td>26.00</td>\n",
       "      <td>9.48</td>\n",
       "      <td>23.93</td>\n",
       "      <td>84</td>\n",
       "      <td>0.43</td>\n",
       "      <td>42.53</td>\n",
       "      <td>78.56</td>\n",
       "      <td>202.30</td>\n",
       "      <td>28.55</td>\n",
       "    </tr>\n",
       "    <tr>\n",
       "      <th>...</th>\n",
       "      <td>...</td>\n",
       "      <td>...</td>\n",
       "      <td>...</td>\n",
       "      <td>...</td>\n",
       "      <td>...</td>\n",
       "      <td>...</td>\n",
       "      <td>...</td>\n",
       "      <td>...</td>\n",
       "      <td>...</td>\n",
       "      <td>...</td>\n",
       "      <td>...</td>\n",
       "      <td>...</td>\n",
       "      <td>...</td>\n",
       "      <td>...</td>\n",
       "    </tr>\n",
       "    <tr>\n",
       "      <th>670</th>\n",
       "      <td>12/27/2024</td>\n",
       "      <td>3.53</td>\n",
       "      <td>0.53</td>\n",
       "      <td>1.45</td>\n",
       "      <td>5.34</td>\n",
       "      <td>6.68</td>\n",
       "      <td>1.45</td>\n",
       "      <td>36.20</td>\n",
       "      <td>66</td>\n",
       "      <td>0.80</td>\n",
       "      <td>151.19</td>\n",
       "      <td>83.99</td>\n",
       "      <td>98.19</td>\n",
       "      <td>30.23</td>\n",
       "    </tr>\n",
       "    <tr>\n",
       "      <th>671</th>\n",
       "      <td>12/28/2024</td>\n",
       "      <td>3.65</td>\n",
       "      <td>0.48</td>\n",
       "      <td>1.44</td>\n",
       "      <td>5.35</td>\n",
       "      <td>6.72</td>\n",
       "      <td>1.44</td>\n",
       "      <td>36.17</td>\n",
       "      <td>64</td>\n",
       "      <td>0.82</td>\n",
       "      <td>159.29</td>\n",
       "      <td>76.87</td>\n",
       "      <td>95.05</td>\n",
       "      <td>29.99</td>\n",
       "    </tr>\n",
       "    <tr>\n",
       "      <th>672</th>\n",
       "      <td>12/29/2024</td>\n",
       "      <td>4.64</td>\n",
       "      <td>0.49</td>\n",
       "      <td>1.42</td>\n",
       "      <td>5.35</td>\n",
       "      <td>6.58</td>\n",
       "      <td>1.42</td>\n",
       "      <td>36.21</td>\n",
       "      <td>60</td>\n",
       "      <td>0.82</td>\n",
       "      <td>148.56</td>\n",
       "      <td>78.66</td>\n",
       "      <td>100.60</td>\n",
       "      <td>30.42</td>\n",
       "    </tr>\n",
       "    <tr>\n",
       "      <th>673</th>\n",
       "      <td>12/30/2024</td>\n",
       "      <td>4.18</td>\n",
       "      <td>0.53</td>\n",
       "      <td>1.44</td>\n",
       "      <td>5.37</td>\n",
       "      <td>6.77</td>\n",
       "      <td>1.44</td>\n",
       "      <td>36.20</td>\n",
       "      <td>60</td>\n",
       "      <td>0.70</td>\n",
       "      <td>143.66</td>\n",
       "      <td>86.57</td>\n",
       "      <td>98.00</td>\n",
       "      <td>30.22</td>\n",
       "    </tr>\n",
       "    <tr>\n",
       "      <th>674</th>\n",
       "      <td>12/31/2024</td>\n",
       "      <td>3.67</td>\n",
       "      <td>0.62</td>\n",
       "      <td>1.42</td>\n",
       "      <td>5.35</td>\n",
       "      <td>6.61</td>\n",
       "      <td>1.42</td>\n",
       "      <td>36.19</td>\n",
       "      <td>60</td>\n",
       "      <td>0.72</td>\n",
       "      <td>163.21</td>\n",
       "      <td>77.02</td>\n",
       "      <td>96.68</td>\n",
       "      <td>30.12</td>\n",
       "    </tr>\n",
       "  </tbody>\n",
       "</table>\n",
       "<p>675 rows × 14 columns</p>\n",
       "</div>"
      ],
      "text/plain": [
       "     PARAMETERS   SO2    CO    NO    NO2    NOX   NH3     O3  AQI    WS  \\\n",
       "0    01/01/2023  2.02  0.06  8.93  17.84  26.00  8.93  26.07   72  0.33   \n",
       "1    02/01/2023  1.63  0.12  8.89  17.74  26.00  8.89  25.97   81  0.47   \n",
       "2    03/01/2023  3.46  0.03  8.91  17.89  26.00  8.91  26.03   82  0.19   \n",
       "3    04/01/2023  2.79  0.11  8.88  17.77  26.00  8.88  25.95   79  0.54   \n",
       "4    05/01/2023  1.15  0.22  9.48  17.73  26.00  9.48  23.93   84  0.43   \n",
       "..          ...   ...   ...   ...    ...    ...   ...    ...  ...   ...   \n",
       "670  12/27/2024  3.53  0.53  1.45   5.34   6.68  1.45  36.20   66  0.80   \n",
       "671  12/28/2024  3.65  0.48  1.44   5.35   6.72  1.44  36.17   64  0.82   \n",
       "672  12/29/2024  4.64  0.49  1.42   5.35   6.58  1.42  36.21   60  0.82   \n",
       "673  12/30/2024  4.18  0.53  1.44   5.37   6.77  1.44  36.20   60  0.70   \n",
       "674  12/31/2024  3.67  0.62  1.42   5.35   6.61  1.42  36.19   60  0.72   \n",
       "\n",
       "         WD     RH      SR     TC  \n",
       "0     37.96  80.27  199.80  28.70  \n",
       "1     33.84  82.50  189.10  28.11  \n",
       "2     54.37  71.00  203.10  28.55  \n",
       "3     40.44  78.11  205.20  28.25  \n",
       "4     42.53  78.56  202.30  28.55  \n",
       "..      ...    ...     ...    ...  \n",
       "670  151.19  83.99   98.19  30.23  \n",
       "671  159.29  76.87   95.05  29.99  \n",
       "672  148.56  78.66  100.60  30.42  \n",
       "673  143.66  86.57   98.00  30.22  \n",
       "674  163.21  77.02   96.68  30.12  \n",
       "\n",
       "[675 rows x 14 columns]"
      ]
     },
     "execution_count": 27,
     "metadata": {},
     "output_type": "execute_result"
    }
   ],
   "source": [
    "import pandas as pd\n",
    "data=pd.read_csv(r\"C:\\Users\\Sreelekshmi\\Downloads\\Final!!.csv\")\n",
    "data"
   ]
  },
  {
   "cell_type": "code",
   "execution_count": 28,
   "id": "cda174c0-e38c-43a7-b663-226f4a3cf22a",
   "metadata": {},
   "outputs": [
    {
     "name": "stdout",
     "output_type": "stream",
     "text": [
      "PARAMETERS    0\n",
      "SO2           0\n",
      "CO            0\n",
      "NO            0\n",
      "NO2           0\n",
      "NOX           0\n",
      "NH3           0\n",
      "O3            0\n",
      "AQI           0\n",
      "WS            0\n",
      "WD            0\n",
      "RH            0\n",
      "SR            1\n",
      "TC            0\n",
      "dtype: int64\n"
     ]
    }
   ],
   "source": [
    "null_counts=data.isnull().sum()\n",
    "print(null_counts)"
   ]
  },
  {
   "cell_type": "code",
   "execution_count": 29,
   "id": "6ddf332f-14f5-4863-a7ab-0dbdf97a7dad",
   "metadata": {},
   "outputs": [],
   "source": [
    "data_cleaned = data.dropna(inplace=True)"
   ]
  },
  {
   "cell_type": "code",
   "execution_count": 30,
   "id": "8049866e-aa04-451c-a74c-ccbaed17444f",
   "metadata": {},
   "outputs": [
    {
     "data": {
      "text/plain": [
       "(674, 14)"
      ]
     },
     "execution_count": 30,
     "metadata": {},
     "output_type": "execute_result"
    }
   ],
   "source": [
    "x=data[['SO2','CO','NO','NO2','NOX','NH3','O3']]\n",
    "y=data['AQI']\n",
    "from sklearn.model_selection import train_test_split\n",
    "x_train,x_test,y_train,y_test=train_test_split(x,y,test_size=0.2,random_state=42)\n",
    "data.shape"
   ]
  },
  {
   "cell_type": "code",
   "execution_count": 31,
   "id": "3d19dad0-f888-4285-8614-e1006db56945",
   "metadata": {},
   "outputs": [],
   "source": [
    "from sklearn.linear_model import LinearRegression\n",
    "reg=LinearRegression()"
   ]
  },
  {
   "cell_type": "code",
   "execution_count": 32,
   "id": "82f1f926-04ef-47f2-99d1-620a0fb4c6bd",
   "metadata": {},
   "outputs": [],
   "source": [
    "reg.fit(x_train,y_train)\n",
    "y_pred=reg.predict(x_test)"
   ]
  },
  {
   "cell_type": "code",
   "execution_count": 33,
   "id": "c98c9b17-2c86-4923-bc28-9c21ffa017b3",
   "metadata": {},
   "outputs": [
    {
     "data": {
      "text/plain": [
       "0.563731981959922"
      ]
     },
     "execution_count": 33,
     "metadata": {},
     "output_type": "execute_result"
    }
   ],
   "source": [
    "from sklearn.metrics import r2_score\n",
    "r2_score(y_test,y_pred)"
   ]
  },
  {
   "cell_type": "code",
   "execution_count": 42,
   "id": "35726b33-c092-409b-aac1-82cf70914849",
   "metadata": {},
   "outputs": [],
   "source": [
    "from sklearn.neighbors import KNeighborsRegressor\n",
    "regressor = KNeighborsRegressor(n_neighbors=20)\n",
    "regressor.fit(x_train, y_train)\n",
    "y_pred = regressor.predict(x_test)"
   ]
  },
  {
   "cell_type": "code",
   "execution_count": 43,
   "id": "0adf06a0-8633-4e83-9f79-dd36ae1739ff",
   "metadata": {},
   "outputs": [
    {
     "data": {
      "text/plain": [
       "0.6524554237622415"
      ]
     },
     "execution_count": 43,
     "metadata": {},
     "output_type": "execute_result"
    }
   ],
   "source": [
    "from sklearn.metrics import r2_score\n",
    "r2_score(y_test,y_pred)"
   ]
  },
  {
   "cell_type": "code",
   "execution_count": 38,
   "id": "35c02ea2-b6f2-4efe-98a6-c17d617f564a",
   "metadata": {},
   "outputs": [],
   "source": [
    "from sklearn.tree import DecisionTreeRegressor\n",
    "model = DecisionTreeRegressor()\n",
    "model.fit(x_train, y_train)\n",
    "y_pred = model.predict(x_test)"
   ]
  },
  {
   "cell_type": "code",
   "execution_count": 39,
   "id": "727f3c19-c12b-447b-904d-85c074d952b6",
   "metadata": {},
   "outputs": [
    {
     "data": {
      "text/plain": [
       "0.6289656532583066"
      ]
     },
     "execution_count": 39,
     "metadata": {},
     "output_type": "execute_result"
    }
   ],
   "source": [
    "from sklearn.metrics import r2_score\n",
    "r2_score(y_test,y_pred)"
   ]
  },
  {
   "cell_type": "code",
   "execution_count": 44,
   "id": "bf78400d-3889-463a-96ea-94e4612851b2",
   "metadata": {},
   "outputs": [],
   "source": [
    "from sklearn.ensemble import RandomForestRegressor\n",
    "model_rf = RandomForestRegressor(n_estimators=30)\n",
    "model_rf.fit(x_train, y_train)\n",
    "y_pred = model_rf.predict(x_test)\n"
   ]
  },
  {
   "cell_type": "code",
   "execution_count": 45,
   "id": "2b4a14e6-784b-404e-b6f7-61776d7eacc2",
   "metadata": {},
   "outputs": [
    {
     "data": {
      "text/plain": [
       "0.6971639983174827"
      ]
     },
     "execution_count": 45,
     "metadata": {},
     "output_type": "execute_result"
    }
   ],
   "source": [
    "from sklearn.metrics import r2_score\n",
    "r2_score(y_test,y_pred)"
   ]
  },
  {
   "cell_type": "code",
   "execution_count": 46,
   "id": "3ba32cfc-f438-4704-86ef-3b327f95e65b",
   "metadata": {},
   "outputs": [],
   "source": [
    "import pickle \n",
    "file=open('pr3.pkl','wb')\n",
    "pickle.dump(regressor,file)\n",
    "file.close()"
   ]
  },
  {
   "cell_type": "code",
   "execution_count": 48,
   "id": "2e64f0a7-bb90-4d03-8a1f-8b940cbfda40",
   "metadata": {},
   "outputs": [],
   "source": [
    "import pickle\n",
    "file=open(r\"C:\\Users\\Sreelekshmi\\Desktop\\akira\\pr3.pkl\",'rb')\n",
    "regressor=pickle.load(file)\n",
    "file.close()"
   ]
  },
  {
   "cell_type": "code",
   "execution_count": null,
   "id": "975d7bcf-c633-4d9a-8365-4241b6cd6675",
   "metadata": {},
   "outputs": [],
   "source": []
  }
 ],
 "metadata": {
  "kernelspec": {
   "display_name": "Python 3 (ipykernel)",
   "language": "python",
   "name": "python3"
  },
  "language_info": {
   "codemirror_mode": {
    "name": "ipython",
    "version": 3
   },
   "file_extension": ".py",
   "mimetype": "text/x-python",
   "name": "python",
   "nbconvert_exporter": "python",
   "pygments_lexer": "ipython3",
   "version": "3.13.3"
  }
 },
 "nbformat": 4,
 "nbformat_minor": 5
}
